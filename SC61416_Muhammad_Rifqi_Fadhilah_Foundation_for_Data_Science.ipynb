{
  "nbformat": 4,
  "nbformat_minor": 0,
  "metadata": {
    "colab": {
      "provenance": [],
      "include_colab_link": true
    },
    "kernelspec": {
      "name": "python3",
      "display_name": "Python 3"
    },
    "language_info": {
      "name": "python"
    }
  },
  "cells": [
    {
      "cell_type": "markdown",
      "metadata": {
        "id": "view-in-github",
        "colab_type": "text"
      },
      "source": [
        "<a href=\"https://colab.research.google.com/github/rifqol/studpen/blob/tugas-1/SC61416_Muhammad_Rifqi_Fadhilah_Foundation_for_Data_Science.ipynb\" target=\"_parent\"><img src=\"https://colab.research.google.com/assets/colab-badge.svg\" alt=\"Open In Colab\"/></a>"
      ]
    },
    {
      "cell_type": "code",
      "execution_count": null,
      "metadata": {
        "id": "flpyGGCTPSFx",
        "colab": {
          "base_uri": "https://localhost:8080/"
        },
        "outputId": "b3c93fb3-babd-4fdf-ef2c-314c7234e01f"
      },
      "outputs": [
        {
          "output_type": "stream",
          "name": "stdout",
          "text": [
            "Money Capital: 1000000001\n",
            "Investment Tenure (years): 5\n",
            "Error: Investment capital must be between 0 and 1,000,000,000\n"
          ]
        }
      ],
      "source": [
        "# SOAL 2\n",
        "\n",
        "def calculate_investment(uang_awal, tahun):\n",
        "    # Syntax agar uang_awal dan jangka waktu investasi sesuai ketentuan dan program akan menampilkan error message jika uang_awal atau tenure tidak sesuai ketentuan\n",
        "    if uang_awal < 0 or uang_awal > 1000000000:\n",
        "        print(\"Error: Investment capital must be between 0 and 1,000,000,000\")\n",
        "        return\n",
        "    if tahun < 1 or tahun > 25:\n",
        "        print(\"Error: Investment tenure must be between 1 and 25 years\")\n",
        "        return\n",
        "\n",
        "    for tahun in range(1, tahun + 1):\n",
        "        uang_awal += uang_awal * 0.25\n",
        "        print(f\"Year {tahun}, your total investment: {uang_awal:.1f}\")\n",
        "\n",
        "# Meminta input dari pengguna\n",
        "uang_awal = int(input(\"Money Capital: \"))\n",
        "tahun = int(input(\"Investment Tenure (years): \"))\n",
        "\n",
        "# Menghitung akumulasi investasi\n",
        "calculate_investment(uang_awal, tahun)"
      ]
    },
    {
      "cell_type": "code",
      "source": [
        "# SOAL 1\n",
        "import pandas as pd\n",
        "import re\n",
        "\n",
        "path_dataset = \"/content/Responden Dataset Assignment Chapter 1.xlsx\"\n",
        "\n",
        "df_14 = pd.read_excel(path_dataset)"
      ],
      "metadata": {
        "id": "OsqlhaC-PaCe"
      },
      "execution_count": null,
      "outputs": []
    },
    {
      "cell_type": "code",
      "source": [],
      "metadata": {
        "colab": {
          "base_uri": "https://localhost:8080/"
        },
        "id": "6nliJXSIpd5O",
        "outputId": "59642663-16ec-408c-aaaf-146a531b39d3"
      },
      "execution_count": null,
      "outputs": [
        {
          "output_type": "stream",
          "name": "stdout",
          "text": [
            "{6}\n"
          ]
        }
      ]
    },
    {
      "cell_type": "code",
      "source": [
        "def get_int(value):\n",
        "    return re.sub(\"\\D\", \"\", str(value))"
      ],
      "metadata": {
        "id": "xIeirre6m4XR"
      },
      "execution_count": null,
      "outputs": []
    },
    {
      "cell_type": "code",
      "source": [
        "df_14['Berat Badan (kg)'] = df_14['Berat Badan (kg)'].apply(get_int)\n",
        "df_14['Tinggi Badan (cm)'] = df_14['Tinggi Badan (cm)'].apply(get_int)\n",
        "\n",
        "df_14['Berat Badan (kg)'] = df_14['Berat Badan (kg)'].astype(int)\n",
        "df_14['Tinggi Badan (cm)'] = df_14['Tinggi Badan (cm)'].astype(int)"
      ],
      "metadata": {
        "id": "RDAEx8fMv8Mn"
      },
      "execution_count": null,
      "outputs": []
    },
    {
      "cell_type": "code",
      "source": [
        "def hitung_bmi(berat_badan, tinggi_badan): #fungsi untuk menghitung BMI\n",
        "    tinggi_m = tinggi_badan / 100\n",
        "    bmi = berat_badan / (tinggi_m ** 2)\n",
        "    return bmi"
      ],
      "metadata": {
        "id": "4WlEaDofnUth"
      },
      "execution_count": null,
      "outputs": []
    },
    {
      "cell_type": "code",
      "source": [
        "df_14['BMI'] = df_14.apply(lambda row: hitung_bmi(row['Berat Badan (kg)'], row['Tinggi Badan (cm)']), axis=1) # syntax untuk menambahkan kolom BMI"
      ],
      "metadata": {
        "id": "ukIUDhFz4DAc"
      },
      "execution_count": null,
      "outputs": []
    },
    {
      "cell_type": "code",
      "source": [
        "print(df_14)"
      ],
      "metadata": {
        "colab": {
          "base_uri": "https://localhost:8080/"
        },
        "id": "jP5CJWywo3xn",
        "outputId": "8afadece-3bcd-4ffe-e2fa-cab02eee4e8f"
      },
      "execution_count": null,
      "outputs": [
        {
          "output_type": "stream",
          "name": "stdout",
          "text": [
            "                 Timestamp Nomor Peserta                  Nama Lengkap  \\\n",
            "0  2024-02-26 22:53:13.757       SC61423  Ni Nyoman Bintang Marscelina   \n",
            "1  2024-02-26 23:14:38.870       SC61408                 Namia Fimieta   \n",
            "2  2024-02-26 23:34:03.101       SC61422         Luthfan Dipo Ramadhan   \n",
            "3  2024-02-26 23:37:00.133       SC61403              Anisya Wulandari   \n",
            "4  2024-02-26 23:46:36.507       SC61406               M. Dzaky Efendi   \n",
            "5  2024-02-26 23:47:36.143       SC61421         Fijar Yasmina Pritama   \n",
            "6  2024-02-27 00:05:06.707       SC61414            Haikal Humam Hafiz   \n",
            "7  2024-02-27 00:22:12.051       SC61418                 Sucik Arifah    \n",
            "8  2024-02-27 00:43:51.233       SC61404                 Fathan Nabila   \n",
            "9  2024-02-27 00:47:15.682       SC61402      Ardhiya Mahfira Prasasta   \n",
            "10 2024-02-27 07:14:19.294       SC61411            Wahyu Azizah Putri   \n",
            "11 2024-02-27 14:51:24.293       SC61409     Putri Shandra Vibriyanti    \n",
            "12 2024-02-27 16:48:02.037       SC61416       Muhammad Rifqi Fadhilah   \n",
            "13 2024-02-27 17:07:26.179       SC61425                 Yugo Pratama    \n",
            "14 2024-02-27 19:45:52.558       SC61424                Ruthesia Grace   \n",
            "15 2024-02-27 19:48:22.606       SC61412     Angelica Mailen Sipasulta   \n",
            "16 2024-02-27 20:43:52.120       SC61413                  Dedy Hartono   \n",
            "17 2024-02-27 22:15:06.473       SC61419        Almira Rahma Valentina   \n",
            "18 2024-02-27 22:18:21.295       SC61401            Aiman Farid Fawwaz   \n",
            "\n",
            "                   Jurusan  Berat Badan (kg)  Tinggi Badan (cm)        BMI  \n",
            "0               Matematika                50                160  19.531250  \n",
            "1               Matematika                45                160  17.578125  \n",
            "2             Ilmu Ekonomi                70                172  23.661439  \n",
            "3             Informatika                 60                160  23.437500  \n",
            "4       Teknik Informatika                75                170  25.951557  \n",
            "5              Informatika                55                168  19.486961  \n",
            "6                Manajemen                75                167  26.892323  \n",
            "7               Matematika                65                162  24.767566  \n",
            "8               Matematika                54                161  20.832530  \n",
            "9                Sosiologi                63                170  21.799308  \n",
            "10               Manajemen                50                164  18.590125  \n",
            "11  Sistem Telekomunikasi                 54                160  21.093750  \n",
            "12      Teknik Informatika                66                175  21.551020  \n",
            "13  Teknik Telekomunikasi                 68                165  24.977043  \n",
            "14              Matematika                56                156  23.011177  \n",
            "15      Teknik Informatika                56                164  20.820940  \n",
            "16      Teknik Informatika                62                167  22.230987  \n",
            "17              Statistika                52                165  19.100092  \n",
            "18        Sistem Informasi                45                167  16.135394  \n"
          ]
        }
      ]
    },
    {
      "cell_type": "code",
      "source": [
        "def hitung_status_BMI(BMI): # Fungsi untuk menghitung status BMI\n",
        "  if BMI < 18.5:\n",
        "    status_BMI = \"Underweight\"\n",
        "  elif BMI > 18.5 and BMI <= 24.9:\n",
        "    status_BMI = \"Normal\"\n",
        "  elif BMI > 24.9 and BMI <= 29.9:\n",
        "    status_BMI = \"Overweight\"\n",
        "  else:\n",
        "    status_BMI = \"Obesity\"\n",
        "  return  status_BMI"
      ],
      "metadata": {
        "id": "s7QgSe6JokeR"
      },
      "execution_count": null,
      "outputs": []
    },
    {
      "cell_type": "code",
      "source": [
        "df_14['Status BMI'] = df_14.apply(lambda row: hitung_status_BMI(row['Berat Badan (kg)'] / ((row['Tinggi Badan (cm)'] / 100) ** 2)), axis=1) # Syntax untuk menambahkan kolom status BMI"
      ],
      "metadata": {
        "id": "2FS5OSSv6Gjn"
      },
      "execution_count": null,
      "outputs": []
    },
    {
      "cell_type": "code",
      "source": [
        "print(df_14)"
      ],
      "metadata": {
        "colab": {
          "base_uri": "https://localhost:8080/"
        },
        "id": "gmDRhRZf6av-",
        "outputId": "9fd71b2e-1627-4a3e-b963-ab4ee1a09b34"
      },
      "execution_count": null,
      "outputs": [
        {
          "output_type": "stream",
          "name": "stdout",
          "text": [
            "                 Timestamp Nomor Peserta                  Nama Lengkap  \\\n",
            "0  2024-02-26 22:53:13.757       SC61423  Ni Nyoman Bintang Marscelina   \n",
            "1  2024-02-26 23:14:38.870       SC61408                 Namia Fimieta   \n",
            "2  2024-02-26 23:34:03.101       SC61422         Luthfan Dipo Ramadhan   \n",
            "3  2024-02-26 23:37:00.133       SC61403              Anisya Wulandari   \n",
            "4  2024-02-26 23:46:36.507       SC61406               M. Dzaky Efendi   \n",
            "5  2024-02-26 23:47:36.143       SC61421         Fijar Yasmina Pritama   \n",
            "6  2024-02-27 00:05:06.707       SC61414            Haikal Humam Hafiz   \n",
            "7  2024-02-27 00:22:12.051       SC61418                 Sucik Arifah    \n",
            "8  2024-02-27 00:43:51.233       SC61404                 Fathan Nabila   \n",
            "9  2024-02-27 00:47:15.682       SC61402      Ardhiya Mahfira Prasasta   \n",
            "10 2024-02-27 07:14:19.294       SC61411            Wahyu Azizah Putri   \n",
            "11 2024-02-27 14:51:24.293       SC61409     Putri Shandra Vibriyanti    \n",
            "12 2024-02-27 16:48:02.037       SC61416       Muhammad Rifqi Fadhilah   \n",
            "13 2024-02-27 17:07:26.179       SC61425                 Yugo Pratama    \n",
            "14 2024-02-27 19:45:52.558       SC61424                Ruthesia Grace   \n",
            "15 2024-02-27 19:48:22.606       SC61412     Angelica Mailen Sipasulta   \n",
            "16 2024-02-27 20:43:52.120       SC61413                  Dedy Hartono   \n",
            "17 2024-02-27 22:15:06.473       SC61419        Almira Rahma Valentina   \n",
            "18 2024-02-27 22:18:21.295       SC61401            Aiman Farid Fawwaz   \n",
            "\n",
            "                   Jurusan  Berat Badan (kg)  Tinggi Badan (cm)        BMI  \\\n",
            "0               Matematika                50                160  19.531250   \n",
            "1               Matematika                45                160  17.578125   \n",
            "2             Ilmu Ekonomi                70                172  23.661439   \n",
            "3             Informatika                 60                160  23.437500   \n",
            "4       Teknik Informatika                75                170  25.951557   \n",
            "5              Informatika                55                168  19.486961   \n",
            "6                Manajemen                75                167  26.892323   \n",
            "7               Matematika                65                162  24.767566   \n",
            "8               Matematika                54                161  20.832530   \n",
            "9                Sosiologi                63                170  21.799308   \n",
            "10               Manajemen                50                164  18.590125   \n",
            "11  Sistem Telekomunikasi                 54                160  21.093750   \n",
            "12      Teknik Informatika                66                175  21.551020   \n",
            "13  Teknik Telekomunikasi                 68                165  24.977043   \n",
            "14              Matematika                56                156  23.011177   \n",
            "15      Teknik Informatika                56                164  20.820940   \n",
            "16      Teknik Informatika                62                167  22.230987   \n",
            "17              Statistika                52                165  19.100092   \n",
            "18        Sistem Informasi                45                167  16.135394   \n",
            "\n",
            "     Status BMI  \n",
            "0        Normal  \n",
            "1   Underweight  \n",
            "2        Normal  \n",
            "3        Normal  \n",
            "4    Overweight  \n",
            "5        Normal  \n",
            "6    Overweight  \n",
            "7        Normal  \n",
            "8        Normal  \n",
            "9        Normal  \n",
            "10       Normal  \n",
            "11       Normal  \n",
            "12       Normal  \n",
            "13   Overweight  \n",
            "14       Normal  \n",
            "15       Normal  \n",
            "16       Normal  \n",
            "17       Normal  \n",
            "18  Underweight  \n"
          ]
        }
      ]
    },
    {
      "cell_type": "code",
      "source": [
        "data_urut_tinggi = df_14.sort_values(by='Tinggi Badan (cm)', ascending=False) # membuat variabel baru untuk mengurutkan data berdasarkan tinggi badan"
      ],
      "metadata": {
        "id": "qRWYsU0b6peN"
      },
      "execution_count": null,
      "outputs": []
    },
    {
      "cell_type": "code",
      "source": [
        "print(data_urut_tinggi)"
      ],
      "metadata": {
        "colab": {
          "base_uri": "https://localhost:8080/"
        },
        "id": "HM_FBwLa63JK",
        "outputId": "55e88b0e-bb11-4ea3-c2ea-cbf2568fc1db"
      },
      "execution_count": null,
      "outputs": [
        {
          "output_type": "stream",
          "name": "stdout",
          "text": [
            "                 Timestamp Nomor Peserta                  Nama Lengkap  \\\n",
            "12 2024-02-27 16:48:02.037       SC61416       Muhammad Rifqi Fadhilah   \n",
            "2  2024-02-26 23:34:03.101       SC61422         Luthfan Dipo Ramadhan   \n",
            "9  2024-02-27 00:47:15.682       SC61402      Ardhiya Mahfira Prasasta   \n",
            "4  2024-02-26 23:46:36.507       SC61406               M. Dzaky Efendi   \n",
            "5  2024-02-26 23:47:36.143       SC61421         Fijar Yasmina Pritama   \n",
            "16 2024-02-27 20:43:52.120       SC61413                  Dedy Hartono   \n",
            "18 2024-02-27 22:18:21.295       SC61401            Aiman Farid Fawwaz   \n",
            "6  2024-02-27 00:05:06.707       SC61414            Haikal Humam Hafiz   \n",
            "13 2024-02-27 17:07:26.179       SC61425                 Yugo Pratama    \n",
            "17 2024-02-27 22:15:06.473       SC61419        Almira Rahma Valentina   \n",
            "10 2024-02-27 07:14:19.294       SC61411            Wahyu Azizah Putri   \n",
            "15 2024-02-27 19:48:22.606       SC61412     Angelica Mailen Sipasulta   \n",
            "7  2024-02-27 00:22:12.051       SC61418                 Sucik Arifah    \n",
            "8  2024-02-27 00:43:51.233       SC61404                 Fathan Nabila   \n",
            "1  2024-02-26 23:14:38.870       SC61408                 Namia Fimieta   \n",
            "11 2024-02-27 14:51:24.293       SC61409     Putri Shandra Vibriyanti    \n",
            "3  2024-02-26 23:37:00.133       SC61403              Anisya Wulandari   \n",
            "0  2024-02-26 22:53:13.757       SC61423  Ni Nyoman Bintang Marscelina   \n",
            "14 2024-02-27 19:45:52.558       SC61424                Ruthesia Grace   \n",
            "\n",
            "                   Jurusan  Berat Badan (kg)  Tinggi Badan (cm)        BMI  \\\n",
            "12      Teknik Informatika                66                175  21.551020   \n",
            "2             Ilmu Ekonomi                70                172  23.661439   \n",
            "9                Sosiologi                63                170  21.799308   \n",
            "4       Teknik Informatika                75                170  25.951557   \n",
            "5              Informatika                55                168  19.486961   \n",
            "16      Teknik Informatika                62                167  22.230987   \n",
            "18        Sistem Informasi                45                167  16.135394   \n",
            "6                Manajemen                75                167  26.892323   \n",
            "13  Teknik Telekomunikasi                 68                165  24.977043   \n",
            "17              Statistika                52                165  19.100092   \n",
            "10               Manajemen                50                164  18.590125   \n",
            "15      Teknik Informatika                56                164  20.820940   \n",
            "7               Matematika                65                162  24.767566   \n",
            "8               Matematika                54                161  20.832530   \n",
            "1               Matematika                45                160  17.578125   \n",
            "11  Sistem Telekomunikasi                 54                160  21.093750   \n",
            "3             Informatika                 60                160  23.437500   \n",
            "0               Matematika                50                160  19.531250   \n",
            "14              Matematika                56                156  23.011177   \n",
            "\n",
            "     Status BMI  \n",
            "12       Normal  \n",
            "2        Normal  \n",
            "9        Normal  \n",
            "4    Overweight  \n",
            "5        Normal  \n",
            "16       Normal  \n",
            "18  Underweight  \n",
            "6    Overweight  \n",
            "13   Overweight  \n",
            "17       Normal  \n",
            "10       Normal  \n",
            "15       Normal  \n",
            "7        Normal  \n",
            "8        Normal  \n",
            "1   Underweight  \n",
            "11       Normal  \n",
            "3        Normal  \n",
            "0        Normal  \n",
            "14       Normal  \n"
          ]
        }
      ]
    },
    {
      "cell_type": "code",
      "source": [
        "data_urut_nama = df_14.sort_values(by='Nama Lengkap', ascending=False) # Membuat variabel baru untuk mengurutkan data berdasarkan nama lengkap"
      ],
      "metadata": {
        "id": "wRmR26-o7B8F"
      },
      "execution_count": null,
      "outputs": []
    },
    {
      "cell_type": "code",
      "source": [
        "print(data_urut_nama)"
      ],
      "metadata": {
        "colab": {
          "base_uri": "https://localhost:8080/"
        },
        "id": "pPx9SGYn7kEx",
        "outputId": "68f9aa65-c2a0-4925-c4f3-43b4169fee75"
      },
      "execution_count": null,
      "outputs": [
        {
          "output_type": "stream",
          "name": "stdout",
          "text": [
            "                 Timestamp Nomor Peserta                  Nama Lengkap  \\\n",
            "13 2024-02-27 17:07:26.179       SC61425                 Yugo Pratama    \n",
            "10 2024-02-27 07:14:19.294       SC61411            Wahyu Azizah Putri   \n",
            "7  2024-02-27 00:22:12.051       SC61418                 Sucik Arifah    \n",
            "14 2024-02-27 19:45:52.558       SC61424                Ruthesia Grace   \n",
            "11 2024-02-27 14:51:24.293       SC61409     Putri Shandra Vibriyanti    \n",
            "0  2024-02-26 22:53:13.757       SC61423  Ni Nyoman Bintang Marscelina   \n",
            "1  2024-02-26 23:14:38.870       SC61408                 Namia Fimieta   \n",
            "12 2024-02-27 16:48:02.037       SC61416       Muhammad Rifqi Fadhilah   \n",
            "4  2024-02-26 23:46:36.507       SC61406               M. Dzaky Efendi   \n",
            "2  2024-02-26 23:34:03.101       SC61422         Luthfan Dipo Ramadhan   \n",
            "6  2024-02-27 00:05:06.707       SC61414            Haikal Humam Hafiz   \n",
            "5  2024-02-26 23:47:36.143       SC61421         Fijar Yasmina Pritama   \n",
            "8  2024-02-27 00:43:51.233       SC61404                 Fathan Nabila   \n",
            "16 2024-02-27 20:43:52.120       SC61413                  Dedy Hartono   \n",
            "9  2024-02-27 00:47:15.682       SC61402      Ardhiya Mahfira Prasasta   \n",
            "3  2024-02-26 23:37:00.133       SC61403              Anisya Wulandari   \n",
            "15 2024-02-27 19:48:22.606       SC61412     Angelica Mailen Sipasulta   \n",
            "17 2024-02-27 22:15:06.473       SC61419        Almira Rahma Valentina   \n",
            "18 2024-02-27 22:18:21.295       SC61401            Aiman Farid Fawwaz   \n",
            "\n",
            "                   Jurusan  Berat Badan (kg)  Tinggi Badan (cm)        BMI  \\\n",
            "13  Teknik Telekomunikasi                 68                165  24.977043   \n",
            "10               Manajemen                50                164  18.590125   \n",
            "7               Matematika                65                162  24.767566   \n",
            "14              Matematika                56                156  23.011177   \n",
            "11  Sistem Telekomunikasi                 54                160  21.093750   \n",
            "0               Matematika                50                160  19.531250   \n",
            "1               Matematika                45                160  17.578125   \n",
            "12      Teknik Informatika                66                175  21.551020   \n",
            "4       Teknik Informatika                75                170  25.951557   \n",
            "2             Ilmu Ekonomi                70                172  23.661439   \n",
            "6                Manajemen                75                167  26.892323   \n",
            "5              Informatika                55                168  19.486961   \n",
            "8               Matematika                54                161  20.832530   \n",
            "16      Teknik Informatika                62                167  22.230987   \n",
            "9                Sosiologi                63                170  21.799308   \n",
            "3             Informatika                 60                160  23.437500   \n",
            "15      Teknik Informatika                56                164  20.820940   \n",
            "17              Statistika                52                165  19.100092   \n",
            "18        Sistem Informasi                45                167  16.135394   \n",
            "\n",
            "     Status BMI  \n",
            "13   Overweight  \n",
            "10       Normal  \n",
            "7        Normal  \n",
            "14       Normal  \n",
            "11       Normal  \n",
            "0        Normal  \n",
            "1   Underweight  \n",
            "12       Normal  \n",
            "4    Overweight  \n",
            "2        Normal  \n",
            "6    Overweight  \n",
            "5        Normal  \n",
            "8        Normal  \n",
            "16       Normal  \n",
            "9        Normal  \n",
            "3        Normal  \n",
            "15       Normal  \n",
            "17       Normal  \n",
            "18  Underweight  \n"
          ]
        }
      ]
    },
    {
      "cell_type": "code",
      "source": [
        "# Syntax untuk memfilter bedasarkan status BMI yang tidak termasuk normal\n",
        "filter1 = df_14[df_14['Status BMI'] != 'Normal']\n",
        "\n",
        "# Syntax untuk memfilter berdasarkan tinggi badan lebih dari 169 cm dan berat lebih dari 60 kg\n",
        "filter2 = df_14[(df_14['Tinggi Badan (cm)'] > 169) & (df_14['Berat Badan (kg)'] > 60)]\n",
        "\n",
        "# Syntax untuk memfilter berdasarkan nama yang mengandung char \"y\"\n",
        "filter3 = df_14[df_14['Nama Lengkap'].str.contains('y', case=False)]\n",
        "\n",
        "# Syntax untuk memfilter berdasarkan yang berat badannya lebih dari 60 kg\n",
        "filter4 = df_14[df_14['Berat Badan (kg)'] < 60]"
      ],
      "metadata": {
        "id": "U3nFLB1w8_lT"
      },
      "execution_count": null,
      "outputs": []
    },
    {
      "cell_type": "code",
      "source": [
        "# Syntax jika ingin menggabungkan 4 filter menjadi 1 kondisi\n",
        "filtered_data = df_14[(df_14['Status BMI'] != 'Normal') &\n",
        "                 (df_14['Tinggi Badan (cm)'] > 169) &\n",
        "                 (df_14['Berat Badan (kg)'] > 60) &\n",
        "                 (df_14['Nama Lengkap'].str.contains('y', case=False)) &\n",
        "                 (df_14['Berat Badan (kg)'] < 60)]"
      ],
      "metadata": {
        "id": "3kIxKCYP9MBJ"
      },
      "execution_count": null,
      "outputs": []
    },
    {
      "cell_type": "code",
      "source": [
        "print(filter1)"
      ],
      "metadata": {
        "colab": {
          "base_uri": "https://localhost:8080/"
        },
        "id": "5U8w4a2X9kFB",
        "outputId": "4080ba8a-f177-48bf-8ab0-42fe79e0d253"
      },
      "execution_count": null,
      "outputs": [
        {
          "output_type": "stream",
          "name": "stdout",
          "text": [
            "                 Timestamp Nomor Peserta        Nama Lengkap  \\\n",
            "1  2024-02-26 23:14:38.870       SC61408       Namia Fimieta   \n",
            "4  2024-02-26 23:46:36.507       SC61406     M. Dzaky Efendi   \n",
            "6  2024-02-27 00:05:06.707       SC61414  Haikal Humam Hafiz   \n",
            "13 2024-02-27 17:07:26.179       SC61425       Yugo Pratama    \n",
            "18 2024-02-27 22:18:21.295       SC61401  Aiman Farid Fawwaz   \n",
            "\n",
            "                   Jurusan  Berat Badan (kg)  Tinggi Badan (cm)        BMI  \\\n",
            "1               Matematika                45                160  17.578125   \n",
            "4       Teknik Informatika                75                170  25.951557   \n",
            "6                Manajemen                75                167  26.892323   \n",
            "13  Teknik Telekomunikasi                 68                165  24.977043   \n",
            "18        Sistem Informasi                45                167  16.135394   \n",
            "\n",
            "     Status BMI  \n",
            "1   Underweight  \n",
            "4    Overweight  \n",
            "6    Overweight  \n",
            "13   Overweight  \n",
            "18  Underweight  \n"
          ]
        }
      ]
    },
    {
      "cell_type": "code",
      "source": [
        "# Syntax untuk menambahkan kolom \"No.\"\n",
        "df_14['No.'] = df_14.reset_index().index + 1\n",
        "\n",
        "# Syntax untuk memindahkan kolom \"No.\" jadi ke paling kiri\n",
        "cols = df_14.columns.tolist()\n",
        "cols = ['No.'] + [col for col in cols if col != 'No.']\n",
        "df_14 = df_14[cols]"
      ],
      "metadata": {
        "id": "_ttoVcQ1-b8x"
      },
      "execution_count": null,
      "outputs": []
    },
    {
      "cell_type": "code",
      "source": [
        "print(df_14)"
      ],
      "metadata": {
        "colab": {
          "base_uri": "https://localhost:8080/"
        },
        "id": "c8TDU_Gx-ttO",
        "outputId": "c77be9a8-d7c6-4927-a749-fcb3436a9fb0"
      },
      "execution_count": null,
      "outputs": [
        {
          "output_type": "stream",
          "name": "stdout",
          "text": [
            "    No.               Timestamp Nomor Peserta                  Nama Lengkap  \\\n",
            "0     1 2024-02-26 22:53:13.757       SC61423  Ni Nyoman Bintang Marscelina   \n",
            "1     2 2024-02-26 23:14:38.870       SC61408                 Namia Fimieta   \n",
            "2     3 2024-02-26 23:34:03.101       SC61422         Luthfan Dipo Ramadhan   \n",
            "3     4 2024-02-26 23:37:00.133       SC61403              Anisya Wulandari   \n",
            "4     5 2024-02-26 23:46:36.507       SC61406               M. Dzaky Efendi   \n",
            "5     6 2024-02-26 23:47:36.143       SC61421         Fijar Yasmina Pritama   \n",
            "6     7 2024-02-27 00:05:06.707       SC61414            Haikal Humam Hafiz   \n",
            "7     8 2024-02-27 00:22:12.051       SC61418                 Sucik Arifah    \n",
            "8     9 2024-02-27 00:43:51.233       SC61404                 Fathan Nabila   \n",
            "9    10 2024-02-27 00:47:15.682       SC61402      Ardhiya Mahfira Prasasta   \n",
            "10   11 2024-02-27 07:14:19.294       SC61411            Wahyu Azizah Putri   \n",
            "11   12 2024-02-27 14:51:24.293       SC61409     Putri Shandra Vibriyanti    \n",
            "12   13 2024-02-27 16:48:02.037       SC61416       Muhammad Rifqi Fadhilah   \n",
            "13   14 2024-02-27 17:07:26.179       SC61425                 Yugo Pratama    \n",
            "14   15 2024-02-27 19:45:52.558       SC61424                Ruthesia Grace   \n",
            "15   16 2024-02-27 19:48:22.606       SC61412     Angelica Mailen Sipasulta   \n",
            "16   17 2024-02-27 20:43:52.120       SC61413                  Dedy Hartono   \n",
            "17   18 2024-02-27 22:15:06.473       SC61419        Almira Rahma Valentina   \n",
            "18   19 2024-02-27 22:18:21.295       SC61401            Aiman Farid Fawwaz   \n",
            "\n",
            "                   Jurusan  Berat Badan (kg)  Tinggi Badan (cm)        BMI  \\\n",
            "0               Matematika                50                160  19.531250   \n",
            "1               Matematika                45                160  17.578125   \n",
            "2             Ilmu Ekonomi                70                172  23.661439   \n",
            "3             Informatika                 60                160  23.437500   \n",
            "4       Teknik Informatika                75                170  25.951557   \n",
            "5              Informatika                55                168  19.486961   \n",
            "6                Manajemen                75                167  26.892323   \n",
            "7               Matematika                65                162  24.767566   \n",
            "8               Matematika                54                161  20.832530   \n",
            "9                Sosiologi                63                170  21.799308   \n",
            "10               Manajemen                50                164  18.590125   \n",
            "11  Sistem Telekomunikasi                 54                160  21.093750   \n",
            "12      Teknik Informatika                66                175  21.551020   \n",
            "13  Teknik Telekomunikasi                 68                165  24.977043   \n",
            "14              Matematika                56                156  23.011177   \n",
            "15      Teknik Informatika                56                164  20.820940   \n",
            "16      Teknik Informatika                62                167  22.230987   \n",
            "17              Statistika                52                165  19.100092   \n",
            "18        Sistem Informasi                45                167  16.135394   \n",
            "\n",
            "     Status BMI  \n",
            "0        Normal  \n",
            "1   Underweight  \n",
            "2        Normal  \n",
            "3        Normal  \n",
            "4    Overweight  \n",
            "5        Normal  \n",
            "6    Overweight  \n",
            "7        Normal  \n",
            "8        Normal  \n",
            "9        Normal  \n",
            "10       Normal  \n",
            "11       Normal  \n",
            "12       Normal  \n",
            "13   Overweight  \n",
            "14       Normal  \n",
            "15       Normal  \n",
            "16       Normal  \n",
            "17       Normal  \n",
            "18  Underweight  \n"
          ]
        }
      ]
    },
    {
      "cell_type": "code",
      "source": [
        "# Syntax untuk mencari Nilai BMI terendah\n",
        "nilai_terendah = df_14['BMI'].min()\n",
        "# Syntax untuk mencari Nilai BMI  tertinggi\n",
        "nilai_tertinggi = df_14['BMI'].max()\n",
        "\n",
        "print(\"Nilai BMI terendah:\",nilai_terendah)\n",
        "print(\"Nilai BMI tertinggi:\", nilai_tertinggi)"
      ],
      "metadata": {
        "colab": {
          "base_uri": "https://localhost:8080/"
        },
        "id": "yRBsdWbB--Ok",
        "outputId": "a81f20d6-7a2a-4639-da66-32fe46700b9f"
      },
      "execution_count": null,
      "outputs": [
        {
          "output_type": "stream",
          "name": "stdout",
          "text": [
            "Nilai BMI terendah: 16.1353938828929\n",
            "Nilai BMI tertinggi: 26.89232313815483\n"
          ]
        }
      ]
    },
    {
      "cell_type": "code",
      "source": [
        "rata_rata_tinggi = df_14['Tinggi Badan (cm)'].mean() #Syntax untuk mencari rata rata tinggi badan\n",
        "\n",
        "print(\"rata rata tinggi mahasiswa:\",rata_rata_tinggi)"
      ],
      "metadata": {
        "colab": {
          "base_uri": "https://localhost:8080/"
        },
        "id": "Pw7maUJ9_MnJ",
        "outputId": "7815d3df-57f0-4d46-98ee-78349bfd099c"
      },
      "execution_count": null,
      "outputs": [
        {
          "output_type": "stream",
          "name": "stdout",
          "text": [
            "rata rata tinggi mahasiswa: 164.89473684210526\n"
          ]
        }
      ]
    },
    {
      "cell_type": "code",
      "source": [
        "rata_rata_berat = df_14['Berat Badan (kg)'].mean() #Syntax untuk mencari rata rata berat badan\n",
        "print(\"rata rata berat mahasiswa:\",rata_rata_berat)"
      ],
      "metadata": {
        "colab": {
          "base_uri": "https://localhost:8080/"
        },
        "id": "ftRfQ5qs_QRe",
        "outputId": "258d5e60-d31d-460a-c826-70f4ca4f6cdc"
      },
      "execution_count": null,
      "outputs": [
        {
          "output_type": "stream",
          "name": "stdout",
          "text": [
            "rata rata berat mahasiswa: 59.0\n"
          ]
        }
      ]
    },
    {
      "cell_type": "code",
      "source": [
        "jumlah_siswa = len(df_14) #syntax untnuk mencari jumlah mahasiswa\n",
        "print(\"Jumlah mahasiswa:\",jumlah_siswa)"
      ],
      "metadata": {
        "colab": {
          "base_uri": "https://localhost:8080/"
        },
        "id": "G5mWcSmr_fFf",
        "outputId": "cc3cfcd2-f5a8-4419-b518-97b59c7fe95e"
      },
      "execution_count": null,
      "outputs": [
        {
          "output_type": "stream",
          "name": "stdout",
          "text": [
            "Jumlah mahasiswa: 19\n"
          ]
        }
      ]
    },
    {
      "cell_type": "code",
      "source": [
        "top_5_bmi = df_14.nlargest(5, 'BMI') #syntax untuk menampilkan 5 data berdasarkan BMI paling besar\n",
        "print(top_5_bmi)"
      ],
      "metadata": {
        "colab": {
          "base_uri": "https://localhost:8080/"
        },
        "id": "lWK1jWo8_pMC",
        "outputId": "1f292ece-1c37-4220-c607-433ece9be540"
      },
      "execution_count": null,
      "outputs": [
        {
          "output_type": "stream",
          "name": "stdout",
          "text": [
            "    No.               Timestamp Nomor Peserta           Nama Lengkap  \\\n",
            "6     7 2024-02-27 00:05:06.707       SC61414     Haikal Humam Hafiz   \n",
            "4     5 2024-02-26 23:46:36.507       SC61406        M. Dzaky Efendi   \n",
            "13   14 2024-02-27 17:07:26.179       SC61425          Yugo Pratama    \n",
            "7     8 2024-02-27 00:22:12.051       SC61418          Sucik Arifah    \n",
            "2     3 2024-02-26 23:34:03.101       SC61422  Luthfan Dipo Ramadhan   \n",
            "\n",
            "                   Jurusan  Berat Badan (kg)  Tinggi Badan (cm)        BMI  \\\n",
            "6                Manajemen                75                167  26.892323   \n",
            "4       Teknik Informatika                75                170  25.951557   \n",
            "13  Teknik Telekomunikasi                 68                165  24.977043   \n",
            "7               Matematika                65                162  24.767566   \n",
            "2             Ilmu Ekonomi                70                172  23.661439   \n",
            "\n",
            "    Status BMI  \n",
            "6   Overweight  \n",
            "4   Overweight  \n",
            "13  Overweight  \n",
            "7       Normal  \n",
            "2       Normal  \n"
          ]
        }
      ]
    },
    {
      "cell_type": "code",
      "source": [
        "jumlah_underweight = len(df_14[df_14['Status BMI'] == 'Underweight']) # Menghitung jumlah Underweight\n",
        "jumlah_normal = len(df_14[df_14['Status BMI'] == 'Normal']) # Menghitung jumlah Normal\n",
        "jumlah_overweight = len(df_14[df_14['Status BMI'] == 'Overweight']) # Menghitung jumlah Overweight\n",
        "jumlah_obesity = len(df_14[df_14['Status BMI'] == 'Obesity']) # Menghitung jumlah Obes\n",
        "\n",
        "print(\"jumlah Underweight:\",jumlah_underweight)\n",
        "print(\"jumlah Normal:\",jumlah_normal)\n",
        "print(\"jumlah Overweight:\",jumlah_overweight)\n",
        "print(\"jumlah Obesity:\",jumlah_obesity)"
      ],
      "metadata": {
        "colab": {
          "base_uri": "https://localhost:8080/"
        },
        "id": "oCH3nnIy_tw0",
        "outputId": "0d143430-13ed-4734-a609-434c0a8e26e9"
      },
      "execution_count": null,
      "outputs": [
        {
          "output_type": "stream",
          "name": "stdout",
          "text": [
            "jumlah Underweight: 2\n",
            "jumlah Normal: 14\n",
            "jumlah Overweight: 3\n",
            "jumlah Obesity: 0\n"
          ]
        }
      ]
    }
  ]
}